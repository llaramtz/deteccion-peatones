{
 "cells": [
  {
   "cell_type": "code",
   "execution_count": 1,
   "metadata": {
    "collapsed": true
   },
   "outputs": [],
   "source": [
    "import cv2\n",
    "import numpy as np\n",
    "import os"
   ]
  },
  {
   "cell_type": "code",
   "execution_count": 2,
   "outputs": [],
   "source": [
    "# Función para obtener las rutas de las imágenes en una carpeta\n",
    "def obtener_rutas_imagenes(carpeta):\n",
    "    rutas = []\n",
    "    for archivo in os.listdir(carpeta):\n",
    "        ruta = os.path.join(carpeta, archivo)\n",
    "        if os.path.isfile(ruta):\n",
    "            rutas.append(ruta)\n",
    "    return rutas"
   ],
   "metadata": {
    "collapsed": false
   }
  },
  {
   "cell_type": "code",
   "execution_count": 5,
   "outputs": [],
   "source": [
    "# Carpeta con imágenes positivas (peatones)\n",
    "positivas_folder = \"dataset/ped-example\"\n",
    "# Carpeta con imágenes negativas (no peatones)\n",
    "negativas_folder = \"dataset/non-ped-example\"\n",
    "\n",
    "# Leer las imágenes positivas y negativas\n",
    "positivas_rutas = obtener_rutas_imagenes(positivas_folder)\n",
    "negativas_rutas = obtener_rutas_imagenes(negativas_folder)\n",
    "\n",
    "# Crear una lista de etiquetas para las imágenes (1 para positivas, 0 para negativas)\n",
    "etiquetas = np.concatenate((np.ones(len(positivas_rutas)), np.zeros(len(negativas_rutas))), axis=0)\n",
    "\n",
    "# Crear una lista de rutas de imágenes para entrenamiento\n",
    "rutas_entrenamiento = positivas_rutas + negativas_rutas\n",
    "\n",
    "# Inicializar la lista de descriptores de características (HOG)\n",
    "descriptores_hog = []\n",
    "\n",
    "# Crear el objeto HOG\n",
    "hog = cv2.HOGDescriptor()\n",
    "\n",
    "# Extraer los descriptores HOG de cada imagen de entrenamiento\n",
    "for ruta in rutas_entrenamiento:\n",
    "    imagen = cv2.imread(ruta)\n",
    "    gray = cv2.cvtColor(imagen, cv2.COLOR_BGR2GRAY)\n",
    "    descriptor = hog.compute(gray)\n",
    "    descriptor = descriptor.flatten() # Aplanar el descriptor\n",
    "    descriptores_hog.append(descriptor)\n",
    "\n",
    "# Obtener la longitud máxima del descriptor\n",
    "max_length = max(len(descriptor) for descriptor in descriptores_hog)\n",
    "\n",
    "# Rellenar los descriptores más cortos con ceros hasta la longitud máxima\n",
    "descriptores_hog = [np.pad(descriptor, (0, max_length - len(descriptor)), mode='constant') for descriptor in descriptores_hog]\n",
    "\n",
    "# Convertir la lista de descriptores y etiquetas a un formato adecuado para SVM\n",
    "descriptores_hog = np.float32(descriptores_hog)\n",
    "etiquetas = np.int32(etiquetas)\n",
    "\n",
    "# Crear el objeto SVM\n",
    "svm = cv2.ml.SVM_create()\n",
    "\n",
    "# Establecer el tipo de SVM (en este caso, SVM de tipo C-SVC)\n",
    "svm.setType(cv2.ml.SVM_C_SVC)\n",
    "\n",
    "# Establecer el kernel SVM (en este caso, kernel lineal)\n",
    "svm.setKernel(cv2.ml.SVM_LINEAR)\n",
    "\n",
    "# Entrenar el modelo SVM\n",
    "svm.train(descriptores_hog, cv2.ml.ROW_SAMPLE, etiquetas)\n",
    "\n",
    "# Guardar el modelo entrenado en un archivo\n",
    "svm.save(\"modelo_svm.xml\")"
   ],
   "metadata": {
    "collapsed": false
   }
  },
  {
   "cell_type": "code",
   "execution_count": 13,
   "outputs": [
    {
     "ename": "error",
     "evalue": "OpenCV(4.7.0) /Users/runner/work/opencv-python/opencv-python/opencv/modules/ml/src/svm.cpp:2013: error: (-215:Assertion failed) samples.cols == var_count && samples.type() == CV_32F in function 'predict'\n",
     "output_type": "error",
     "traceback": [
      "\u001B[0;31m---------------------------------------------------------------------------\u001B[0m",
      "\u001B[0;31merror\u001B[0m                                     Traceback (most recent call last)",
      "Input \u001B[0;32mIn [13]\u001B[0m, in \u001B[0;36m<cell line: 54>\u001B[0;34m()\u001B[0m\n\u001B[1;32m     55\u001B[0m ret, frame \u001B[38;5;241m=\u001B[39m cap\u001B[38;5;241m.\u001B[39mread()\n\u001B[1;32m     57\u001B[0m \u001B[38;5;28;01mif\u001B[39;00m ret \u001B[38;5;241m==\u001B[39m \u001B[38;5;28;01mTrue\u001B[39;00m:\n\u001B[0;32m---> 58\u001B[0m     line_frame \u001B[38;5;241m=\u001B[39m \u001B[43mprocess_frame\u001B[49m\u001B[43m(\u001B[49m\u001B[43mframe\u001B[49m\u001B[43m)\u001B[49m\n\u001B[1;32m     59\u001B[0m     cv2\u001B[38;5;241m.\u001B[39mimshow(\u001B[38;5;124m'\u001B[39m\u001B[38;5;124mVideo\u001B[39m\u001B[38;5;124m'\u001B[39m, line_frame)\n\u001B[1;32m     61\u001B[0m     \u001B[38;5;66;03m# Salir al presionar la tecla 'q'\u001B[39;00m\n",
      "Input \u001B[0;32mIn [13]\u001B[0m, in \u001B[0;36mprocess_frame\u001B[0;34m(frame)\u001B[0m\n\u001B[1;32m     38\u001B[0m descriptor \u001B[38;5;241m/\u001B[39m\u001B[38;5;241m=\u001B[39m np\u001B[38;5;241m.\u001B[39mlinalg\u001B[38;5;241m.\u001B[39mnorm(descriptor)\n\u001B[1;32m     40\u001B[0m \u001B[38;5;66;03m# Realizar la predicción utilizando el modelo SVM\u001B[39;00m\n\u001B[0;32m---> 41\u001B[0m _, result \u001B[38;5;241m=\u001B[39m \u001B[43msvm\u001B[49m\u001B[38;5;241;43m.\u001B[39;49m\u001B[43mpredict\u001B[49m\u001B[43m(\u001B[49m\u001B[43mdescriptor\u001B[49m\u001B[43m)\u001B[49m\n\u001B[1;32m     43\u001B[0m \u001B[38;5;66;03m# Obtener las coordenadas del rectángulo del peatón detectado\u001B[39;00m\n\u001B[1;32m     44\u001B[0m x, y, w, h \u001B[38;5;241m=\u001B[39m result\u001B[38;5;241m.\u001B[39mravel()\n",
      "\u001B[0;31merror\u001B[0m: OpenCV(4.7.0) /Users/runner/work/opencv-python/opencv-python/opencv/modules/ml/src/svm.cpp:2013: error: (-215:Assertion failed) samples.cols == var_count && samples.type() == CV_32F in function 'predict'\n"
     ]
    }
   ],
   "source": [
    "# Abrir el archivo de video\n",
    "#cap = cv2.VideoCapture('video/crosswalk.avi')\n",
    "cap = cv2.VideoCapture('video/fourway.avi')\n",
    "\n",
    "# Definir los puntos de referencia de la ROI para detección de carriles\n",
    "#ROI_vertices = [(0, 720), (1280, 720), (800, 450), (580, 450)]\n",
    "height, width = cap.read()[1].shape[:2]\n",
    "ROI_vertices = [(200, height), (1100,height), (550, 250)]\n",
    "\n",
    "\n",
    "svm = cv2.ml.SVM_load('modelo_svm.xml')  # Cargar el modelo entrenado del archivo\n",
    "\n",
    "\n",
    "def draw_lines(img, lines):\n",
    "    for line in lines:\n",
    "        x1, y1, x2, y2 = line[0]\n",
    "        cv2.line(img, (x1, y1), (x2, y2), (0, 255, 0), thickness=2)\n",
    "\n",
    "\n",
    "# Definir la función para procesar cada cuadro del video\n",
    "def process_frame(frame):\n",
    "    # Convertir la imagen a escala de grises\n",
    "    gray = cv2.cvtColor(frame, cv2.COLOR_BGR2GRAY)\n",
    "\n",
    "    # Crear el objeto HOG\n",
    "    hog = cv2.HOGDescriptor()\n",
    "\n",
    "    # Calcular el descriptor HOG de la imagen\n",
    "    descriptor = hog.compute(gray).reshape(1, -1)\n",
    "\n",
    "    # Convertir el descriptor a tipo CV_32F\n",
    "    descriptor = descriptor.astype(np.float32)\n",
    "\n",
    "    # Normalizar el descriptor\n",
    "    descriptor /= np.linalg.norm(descriptor)\n",
    "\n",
    "    # Realizar la predicción utilizando el modelo SVM\n",
    "    _, result = svm.predict(descriptor)\n",
    "\n",
    "    # Obtener las coordenadas del rectángulo del peatón detectado\n",
    "    x, y, w, h = result.ravel()\n",
    "\n",
    "    # Dibujar un rectángulo alrededor del peatón detectado\n",
    "    cv2.rectangle(frame, (x, y), (x+w, y+h), (0, 255, 0), thickness=2)\n",
    "\n",
    "    return frame\n",
    "\n",
    "# Procesar cada cuadro del video y mostrar la imagen de salida\n",
    "while(cap.isOpened()):\n",
    "    ret, frame = cap.read()\n",
    "\n",
    "    if ret == True:\n",
    "        line_frame = process_frame(frame)\n",
    "        cv2.imshow('Video', line_frame)\n",
    "\n",
    "        # Salir al presionar la tecla 'q'\n",
    "        if cv2.waitKey(1) & 0xFF == ord('q'):\n",
    "            break\n",
    "    else:\n",
    "        break\n",
    "\n",
    "cap.release()\n",
    "cv2.destroyAllWindows()\n"
   ],
   "metadata": {
    "collapsed": false
   }
  },
  {
   "cell_type": "code",
   "execution_count": null,
   "outputs": [],
   "source": [],
   "metadata": {
    "collapsed": false
   }
  }
 ],
 "metadata": {
  "kernelspec": {
   "display_name": "Python 3",
   "language": "python",
   "name": "python3"
  },
  "language_info": {
   "codemirror_mode": {
    "name": "ipython",
    "version": 2
   },
   "file_extension": ".py",
   "mimetype": "text/x-python",
   "name": "python",
   "nbconvert_exporter": "python",
   "pygments_lexer": "ipython2",
   "version": "2.7.6"
  }
 },
 "nbformat": 4,
 "nbformat_minor": 0
}
